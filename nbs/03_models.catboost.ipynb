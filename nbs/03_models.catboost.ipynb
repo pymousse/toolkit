{
 "cells": [
  {
   "cell_type": "code",
   "execution_count": null,
   "metadata": {},
   "outputs": [],
   "source": [
    "# default_exp models.catboost"
   ]
  },
  {
   "cell_type": "markdown",
   "metadata": {},
   "source": [
    "# CatBoost\n",
    "\n",
    "> API details."
   ]
  },
  {
   "cell_type": "markdown",
   "metadata": {},
   "source": [
    "https://github.com/catboost/tutorials/blob/master/python_tutorial.ipynb"
   ]
  },
  {
   "cell_type": "markdown",
   "metadata": {},
   "source": [
    "https://www.kaggle.com/c/avito-demand-prediction/discussion/59880"
   ]
  },
  {
   "cell_type": "code",
   "execution_count": null,
   "metadata": {},
   "outputs": [],
   "source": [
    "import pandas as pd\n",
    "import os\n",
    "import sys\n",
    "import inspect\n",
    "import numpy as np\n",
    "\n",
    "import time\n",
    "import sys\n",
    "import gc\n",
    "\n",
    "\n",
    "from catboost import CatBoostRegressor, Pool, cv\n",
    "\n",
    "import hyperopt"
   ]
  },
  {
   "cell_type": "markdown",
   "metadata": {},
   "source": [
    "## Data loading"
   ]
  },
  {
   "cell_type": "code",
   "execution_count": null,
   "metadata": {},
   "outputs": [
    {
     "data": {
      "text/html": [
       "<div>\n",
       "<style scoped>\n",
       "    .dataframe tbody tr th:only-of-type {\n",
       "        vertical-align: middle;\n",
       "    }\n",
       "\n",
       "    .dataframe tbody tr th {\n",
       "        vertical-align: top;\n",
       "    }\n",
       "\n",
       "    .dataframe thead th {\n",
       "        text-align: right;\n",
       "    }\n",
       "</style>\n",
       "<table border=\"1\" class=\"dataframe\">\n",
       "  <thead>\n",
       "    <tr style=\"text-align: right;\">\n",
       "      <th></th>\n",
       "      <th>date</th>\n",
       "      <th>date_block_num</th>\n",
       "      <th>shop_id</th>\n",
       "      <th>item_id</th>\n",
       "      <th>item_price</th>\n",
       "      <th>item_cnt_day</th>\n",
       "    </tr>\n",
       "  </thead>\n",
       "  <tbody>\n",
       "    <tr>\n",
       "      <td>0</td>\n",
       "      <td>02.01.2013</td>\n",
       "      <td>0</td>\n",
       "      <td>59</td>\n",
       "      <td>22154</td>\n",
       "      <td>999.00</td>\n",
       "      <td>1.0</td>\n",
       "    </tr>\n",
       "    <tr>\n",
       "      <td>1</td>\n",
       "      <td>03.01.2013</td>\n",
       "      <td>0</td>\n",
       "      <td>25</td>\n",
       "      <td>2552</td>\n",
       "      <td>899.00</td>\n",
       "      <td>1.0</td>\n",
       "    </tr>\n",
       "    <tr>\n",
       "      <td>2</td>\n",
       "      <td>05.01.2013</td>\n",
       "      <td>0</td>\n",
       "      <td>25</td>\n",
       "      <td>2552</td>\n",
       "      <td>899.00</td>\n",
       "      <td>-1.0</td>\n",
       "    </tr>\n",
       "    <tr>\n",
       "      <td>3</td>\n",
       "      <td>06.01.2013</td>\n",
       "      <td>0</td>\n",
       "      <td>25</td>\n",
       "      <td>2554</td>\n",
       "      <td>1709.05</td>\n",
       "      <td>1.0</td>\n",
       "    </tr>\n",
       "    <tr>\n",
       "      <td>4</td>\n",
       "      <td>15.01.2013</td>\n",
       "      <td>0</td>\n",
       "      <td>25</td>\n",
       "      <td>2555</td>\n",
       "      <td>1099.00</td>\n",
       "      <td>1.0</td>\n",
       "    </tr>\n",
       "  </tbody>\n",
       "</table>\n",
       "</div>"
      ],
      "text/plain": [
       "         date  date_block_num  shop_id  item_id  item_price  item_cnt_day\n",
       "0  02.01.2013               0       59    22154      999.00           1.0\n",
       "1  03.01.2013               0       25     2552      899.00           1.0\n",
       "2  05.01.2013               0       25     2552      899.00          -1.0\n",
       "3  06.01.2013               0       25     2554     1709.05           1.0\n",
       "4  15.01.2013               0       25     2555     1099.00           1.0"
      ]
     },
     "execution_count": null,
     "metadata": {},
     "output_type": "execute_result"
    }
   ],
   "source": [
    "data_df = pd.read_csv(\"../data/sales_train.csv\")\n",
    "data_df.head()"
   ]
  },
  {
   "cell_type": "code",
   "execution_count": null,
   "metadata": {},
   "outputs": [],
   "source": [
    "data_df = data_df.drop(\"date\",axis=1)"
   ]
  },
  {
   "cell_type": "code",
   "execution_count": null,
   "metadata": {},
   "outputs": [],
   "source": [
    "X_train = data_df[data_df.date_block_num < 33].drop(['item_cnt_day'], axis=1)\n",
    "Y_train = data_df[data_df.date_block_num < 33]['item_cnt_day']\n",
    "X_valid = data_df[data_df.date_block_num == 33].drop(['item_cnt_day'], axis=1)\n",
    "Y_valid = data_df[data_df.date_block_num == 33]['item_cnt_day']\n",
    "X_test = data_df[data_df.date_block_num == 34].drop(['item_cnt_day'], axis=1)"
   ]
  },
  {
   "cell_type": "code",
   "execution_count": null,
   "metadata": {},
   "outputs": [
    {
     "data": {
      "text/html": [
       "<div>\n",
       "<style scoped>\n",
       "    .dataframe tbody tr th:only-of-type {\n",
       "        vertical-align: middle;\n",
       "    }\n",
       "\n",
       "    .dataframe tbody tr th {\n",
       "        vertical-align: top;\n",
       "    }\n",
       "\n",
       "    .dataframe thead th {\n",
       "        text-align: right;\n",
       "    }\n",
       "</style>\n",
       "<table border=\"1\" class=\"dataframe\">\n",
       "  <thead>\n",
       "    <tr style=\"text-align: right;\">\n",
       "      <th></th>\n",
       "      <th>date_block_num</th>\n",
       "      <th>shop_id</th>\n",
       "      <th>item_id</th>\n",
       "      <th>item_price</th>\n",
       "    </tr>\n",
       "  </thead>\n",
       "  <tbody>\n",
       "    <tr>\n",
       "      <td>0</td>\n",
       "      <td>0</td>\n",
       "      <td>59</td>\n",
       "      <td>22154</td>\n",
       "      <td>999.00</td>\n",
       "    </tr>\n",
       "    <tr>\n",
       "      <td>1</td>\n",
       "      <td>0</td>\n",
       "      <td>25</td>\n",
       "      <td>2552</td>\n",
       "      <td>899.00</td>\n",
       "    </tr>\n",
       "    <tr>\n",
       "      <td>2</td>\n",
       "      <td>0</td>\n",
       "      <td>25</td>\n",
       "      <td>2552</td>\n",
       "      <td>899.00</td>\n",
       "    </tr>\n",
       "    <tr>\n",
       "      <td>3</td>\n",
       "      <td>0</td>\n",
       "      <td>25</td>\n",
       "      <td>2554</td>\n",
       "      <td>1709.05</td>\n",
       "    </tr>\n",
       "    <tr>\n",
       "      <td>4</td>\n",
       "      <td>0</td>\n",
       "      <td>25</td>\n",
       "      <td>2555</td>\n",
       "      <td>1099.00</td>\n",
       "    </tr>\n",
       "  </tbody>\n",
       "</table>\n",
       "</div>"
      ],
      "text/plain": [
       "   date_block_num  shop_id  item_id  item_price\n",
       "0               0       59    22154      999.00\n",
       "1               0       25     2552      899.00\n",
       "2               0       25     2552      899.00\n",
       "3               0       25     2554     1709.05\n",
       "4               0       25     2555     1099.00"
      ]
     },
     "execution_count": null,
     "metadata": {},
     "output_type": "execute_result"
    }
   ],
   "source": [
    "X_train.head()"
   ]
  },
  {
   "cell_type": "code",
   "execution_count": null,
   "metadata": {},
   "outputs": [],
   "source": [
    "del data_df\n",
    "gc.collect();"
   ]
  },
  {
   "cell_type": "markdown",
   "metadata": {},
   "source": [
    "## Model training"
   ]
  },
  {
   "cell_type": "code",
   "execution_count": null,
   "metadata": {},
   "outputs": [],
   "source": [
    "is_use_GPU = False"
   ]
  },
  {
   "cell_type": "code",
   "execution_count": null,
   "metadata": {},
   "outputs": [],
   "source": [
    "if is_use_GPU:\n",
    "    task_type = \"GPU\"\n",
    "else:\n",
    "    task_type = \"CPU\""
   ]
  },
  {
   "cell_type": "markdown",
   "metadata": {},
   "source": [
    "### Hyperopt"
   ]
  },
  {
   "cell_type": "code",
   "execution_count": null,
   "metadata": {},
   "outputs": [],
   "source": [
    "def hyperopt_objective(params):\n",
    "    model = CatBoostRegressor(\n",
    "        task_type = task_type,\n",
    "        l2_leaf_reg=int(params['l2_leaf_reg']),\n",
    "        learning_rate=params['learning_rate'],\n",
    "        depth=int(params['depth']),\n",
    "        \n",
    "        iterations=500, # go to 500\n",
    "        eval_metric='RMSE',\n",
    "        random_seed=42,\n",
    "        logging_level='Silent'\n",
    "    )\n",
    "    \n",
    "    cv_data = cv(\n",
    "        Pool(X_train\n",
    "                , Y_train\n",
    "                , cat_features = categorical_features_indices\n",
    "            )\n",
    "        ,model.get_params()\n",
    "    )\n",
    "    best_rmse = np.min(cv_data['test-RMSE-mean'])\n",
    "    \n",
    "    return best_rmse # as hyperopt minimises"
   ]
  },
  {
   "cell_type": "code",
   "execution_count": null,
   "metadata": {},
   "outputs": [],
   "source": [
    "do_tuning = False"
   ]
  },
  {
   "cell_type": "code",
   "execution_count": null,
   "metadata": {},
   "outputs": [],
   "source": [
    "if do_tuning:\n",
    "    params_space = {\n",
    "        'l2_leaf_reg': hyperopt.hp.qloguniform('l2_leaf_reg', 0, 2, 1),\n",
    "        'learning_rate': hyperopt.hp.uniform('learning_rate', 1e-3, 5e-1),\n",
    "        #'depth' : hyperopt.hp.uniform('depth', 5, 15)\n",
    "        'depth' : hyperopt.hp.choice('depth', range(5,15))\n",
    "    }\n",
    "\n",
    "    trials = hyperopt.Trials()\n",
    "\n",
    "    best = hyperopt.fmin(\n",
    "        hyperopt_objective,\n",
    "        space=params_space,\n",
    "        algo=hyperopt.tpe.suggest,\n",
    "        max_evals=50, # go to 50\n",
    "        trials=trials,\n",
    "        rstate=RandomState(123)\n",
    "    )\n",
    "\n",
    "    print(best)"
   ]
  },
  {
   "cell_type": "markdown",
   "metadata": {},
   "source": [
    "### Model parametrization"
   ]
  },
  {
   "cell_type": "code",
   "execution_count": null,
   "metadata": {},
   "outputs": [
    {
     "name": "stdout",
     "output_type": "stream",
     "text": [
      "task type: CPU\n",
      "0:\tlearn: 2.2294130\ttest: 9.7623564\tbest: 9.7623564 (0)\ttotal: 762ms\tremaining: 12m 41s\n",
      "1:\tlearn: 2.2051488\ttest: 9.7571760\tbest: 9.7571760 (1)\ttotal: 1.14s\tremaining: 9m 31s\n",
      "2:\tlearn: 2.1936169\ttest: 9.7581899\tbest: 9.7571760 (1)\ttotal: 1.55s\tremaining: 8m 37s\n",
      "3:\tlearn: 2.1501633\ttest: 9.6044575\tbest: 9.6044575 (3)\ttotal: 1.84s\tremaining: 7m 37s\n",
      "4:\tlearn: 2.1415261\ttest: 9.6035323\tbest: 9.6035323 (4)\ttotal: 2.13s\tremaining: 7m 5s\n",
      "5:\tlearn: 2.1368785\ttest: 9.6032698\tbest: 9.6032698 (5)\ttotal: 2.54s\tremaining: 7m\n",
      "6:\tlearn: 2.1271711\ttest: 9.6032873\tbest: 9.6032698 (5)\ttotal: 2.84s\tremaining: 6m 43s\n",
      "7:\tlearn: 2.1240736\ttest: 9.6031107\tbest: 9.6031107 (7)\ttotal: 3.27s\tremaining: 6m 46s\n",
      "8:\tlearn: 2.1198226\ttest: 9.6070751\tbest: 9.6031107 (7)\ttotal: 3.56s\tremaining: 6m 32s\n",
      "9:\tlearn: 2.1158140\ttest: 9.6057547\tbest: 9.6031107 (7)\ttotal: 3.85s\tremaining: 6m 21s\n",
      "10:\tlearn: 2.1068363\ttest: 9.6056186\tbest: 9.6031107 (7)\ttotal: 4.15s\tremaining: 6m 12s\n",
      "11:\tlearn: 2.1054902\ttest: 9.6058995\tbest: 9.6031107 (7)\ttotal: 4.45s\tremaining: 6m 6s\n",
      "12:\tlearn: 2.1029512\ttest: 9.6059401\tbest: 9.6031107 (7)\ttotal: 4.78s\tremaining: 6m 3s\n",
      "13:\tlearn: 2.0810105\ttest: 9.6061047\tbest: 9.6031107 (7)\ttotal: 5.09s\tremaining: 5m 58s\n",
      "14:\tlearn: 2.0782914\ttest: 9.6060214\tbest: 9.6031107 (7)\ttotal: 5.38s\tremaining: 5m 53s\n",
      "15:\tlearn: 2.0768353\ttest: 9.6059496\tbest: 9.6031107 (7)\ttotal: 5.73s\tremaining: 5m 52s\n",
      "16:\tlearn: 2.0592506\ttest: 9.5452229\tbest: 9.5452229 (16)\ttotal: 6.03s\tremaining: 5m 48s\n",
      "17:\tlearn: 2.0578205\ttest: 9.5449473\tbest: 9.5449473 (17)\ttotal: 6.32s\tremaining: 5m 44s\n",
      "18:\tlearn: 2.0554762\ttest: 9.5449793\tbest: 9.5449473 (17)\ttotal: 6.69s\tremaining: 5m 45s\n",
      "19:\tlearn: 2.0538966\ttest: 9.5449150\tbest: 9.5449150 (19)\ttotal: 6.98s\tremaining: 5m 41s\n",
      "20:\tlearn: 2.0201790\ttest: 9.5452356\tbest: 9.5449150 (19)\ttotal: 7.41s\tremaining: 5m 45s\n",
      "21:\tlearn: 2.0159917\ttest: 9.5444882\tbest: 9.5444882 (21)\ttotal: 8.11s\tremaining: 6m\n",
      "22:\tlearn: 2.0144246\ttest: 9.5430907\tbest: 9.5430907 (22)\ttotal: 8.46s\tremaining: 5m 59s\n",
      "23:\tlearn: 2.0137116\ttest: 9.5430047\tbest: 9.5430047 (23)\ttotal: 8.93s\tremaining: 6m 3s\n",
      "24:\tlearn: 2.0083557\ttest: 9.5436835\tbest: 9.5430047 (23)\ttotal: 9.32s\tremaining: 6m 3s\n",
      "25:\tlearn: 2.0014393\ttest: 9.5490417\tbest: 9.5430047 (23)\ttotal: 9.63s\tremaining: 6m\n",
      "26:\tlearn: 1.9996181\ttest: 9.5490454\tbest: 9.5430047 (23)\ttotal: 9.94s\tremaining: 5m 58s\n",
      "27:\tlearn: 1.9960842\ttest: 9.5384069\tbest: 9.5384069 (27)\ttotal: 10.2s\tremaining: 5m 55s\n",
      "28:\tlearn: 1.9933633\ttest: 9.5379635\tbest: 9.5379635 (28)\ttotal: 10.5s\tremaining: 5m 52s\n",
      "29:\tlearn: 1.9920022\ttest: 9.5380063\tbest: 9.5379635 (28)\ttotal: 10.9s\tremaining: 5m 51s\n",
      "30:\tlearn: 1.9905059\ttest: 9.5379752\tbest: 9.5379635 (28)\ttotal: 11.2s\tremaining: 5m 48s\n",
      "31:\tlearn: 1.9898216\ttest: 9.5380038\tbest: 9.5379635 (28)\ttotal: 11.5s\tremaining: 5m 46s\n",
      "32:\tlearn: 1.9885853\ttest: 9.5380456\tbest: 9.5379635 (28)\ttotal: 11.8s\tremaining: 5m 45s\n",
      "33:\tlearn: 1.9840746\ttest: 9.5384603\tbest: 9.5379635 (28)\ttotal: 12.1s\tremaining: 5m 42s\n",
      "34:\tlearn: 1.9825693\ttest: 9.5384415\tbest: 9.5379635 (28)\ttotal: 12.4s\tremaining: 5m 42s\n",
      "35:\tlearn: 1.9819100\ttest: 9.5384631\tbest: 9.5379635 (28)\ttotal: 12.7s\tremaining: 5m 40s\n",
      "36:\tlearn: 1.9783488\ttest: 9.5194970\tbest: 9.5194970 (36)\ttotal: 13s\tremaining: 5m 38s\n",
      "37:\tlearn: 1.9759464\ttest: 9.5196083\tbest: 9.5194970 (36)\ttotal: 13.3s\tremaining: 5m 36s\n",
      "38:\tlearn: 1.9745541\ttest: 9.5195385\tbest: 9.5194970 (36)\ttotal: 13.6s\tremaining: 5m 34s\n",
      "39:\tlearn: 1.9741921\ttest: 9.5189835\tbest: 9.5189835 (39)\ttotal: 13.9s\tremaining: 5m 32s\n",
      "40:\tlearn: 1.9719567\ttest: 9.5192959\tbest: 9.5189835 (39)\ttotal: 14.2s\tremaining: 5m 31s\n",
      "41:\tlearn: 1.9699940\ttest: 9.5226360\tbest: 9.5189835 (39)\ttotal: 14.5s\tremaining: 5m 30s\n",
      "42:\tlearn: 1.9690314\ttest: 9.5226526\tbest: 9.5189835 (39)\ttotal: 14.8s\tremaining: 5m 28s\n",
      "43:\tlearn: 1.9681814\ttest: 9.5223103\tbest: 9.5189835 (39)\ttotal: 15.1s\tremaining: 5m 27s\n",
      "44:\tlearn: 1.9669671\ttest: 9.5223395\tbest: 9.5189835 (39)\ttotal: 15.4s\tremaining: 5m 27s\n",
      "45:\tlearn: 1.9663137\ttest: 9.5223377\tbest: 9.5189835 (39)\ttotal: 15.8s\tremaining: 5m 26s\n",
      "46:\tlearn: 1.9585372\ttest: 9.5224917\tbest: 9.5189835 (39)\ttotal: 16.1s\tremaining: 5m 25s\n",
      "47:\tlearn: 1.9555785\ttest: 9.5224015\tbest: 9.5189835 (39)\ttotal: 16.4s\tremaining: 5m 24s\n",
      "48:\tlearn: 1.9532166\ttest: 9.5223861\tbest: 9.5189835 (39)\ttotal: 16.7s\tremaining: 5m 24s\n",
      "49:\tlearn: 1.9423671\ttest: 9.4957291\tbest: 9.4957291 (49)\ttotal: 17s\tremaining: 5m 22s\n",
      "50:\tlearn: 1.9417486\ttest: 9.4957165\tbest: 9.4957165 (50)\ttotal: 17.3s\tremaining: 5m 22s\n",
      "51:\tlearn: 1.9404602\ttest: 9.4958250\tbest: 9.4957165 (50)\ttotal: 17.7s\tremaining: 5m 22s\n",
      "52:\tlearn: 1.9397528\ttest: 9.4957455\tbest: 9.4957165 (50)\ttotal: 18s\tremaining: 5m 21s\n",
      "53:\tlearn: 1.9395772\ttest: 9.4956705\tbest: 9.4956705 (53)\ttotal: 18.3s\tremaining: 5m 20s\n",
      "54:\tlearn: 1.9384863\ttest: 9.4958275\tbest: 9.4956705 (53)\ttotal: 18.6s\tremaining: 5m 19s\n",
      "55:\tlearn: 1.9374777\ttest: 9.4958213\tbest: 9.4956705 (53)\ttotal: 18.9s\tremaining: 5m 18s\n",
      "56:\tlearn: 1.9358561\ttest: 9.4958816\tbest: 9.4956705 (53)\ttotal: 19.2s\tremaining: 5m 18s\n",
      "57:\tlearn: 1.9355292\ttest: 9.4954360\tbest: 9.4954360 (57)\ttotal: 19.5s\tremaining: 5m 17s\n",
      "58:\tlearn: 1.9350090\ttest: 9.4954379\tbest: 9.4954360 (57)\ttotal: 19.8s\tremaining: 5m 16s\n",
      "59:\tlearn: 1.9345830\ttest: 9.4953724\tbest: 9.4953724 (59)\ttotal: 20.1s\tremaining: 5m 15s\n",
      "60:\tlearn: 1.9339920\ttest: 9.4940154\tbest: 9.4940154 (60)\ttotal: 20.4s\tremaining: 5m 14s\n",
      "61:\tlearn: 1.9333693\ttest: 9.4938951\tbest: 9.4938951 (61)\ttotal: 20.7s\tremaining: 5m 13s\n",
      "62:\tlearn: 1.9328305\ttest: 9.4938748\tbest: 9.4938748 (62)\ttotal: 21s\tremaining: 5m 12s\n",
      "63:\tlearn: 1.9321213\ttest: 9.4938460\tbest: 9.4938460 (63)\ttotal: 21.3s\tremaining: 5m 11s\n",
      "64:\tlearn: 1.9311226\ttest: 9.4937678\tbest: 9.4937678 (64)\ttotal: 21.6s\tremaining: 5m 11s\n",
      "65:\tlearn: 1.9305096\ttest: 9.4937432\tbest: 9.4937432 (65)\ttotal: 21.9s\tremaining: 5m 10s\n",
      "66:\tlearn: 1.9292910\ttest: 9.4936138\tbest: 9.4936138 (66)\ttotal: 22.2s\tremaining: 5m 9s\n",
      "67:\tlearn: 1.9287599\ttest: 9.4931998\tbest: 9.4931998 (67)\ttotal: 22.6s\tremaining: 5m 9s\n",
      "68:\tlearn: 1.9221245\ttest: 9.4932393\tbest: 9.4931998 (67)\ttotal: 22.8s\tremaining: 5m 8s\n",
      "69:\tlearn: 1.9206909\ttest: 9.4932762\tbest: 9.4931998 (67)\ttotal: 23.1s\tremaining: 5m 7s\n",
      "70:\tlearn: 1.9198678\ttest: 9.4933398\tbest: 9.4931998 (67)\ttotal: 23.5s\tremaining: 5m 6s\n",
      "71:\tlearn: 1.9154574\ttest: 9.2012161\tbest: 9.2012161 (71)\ttotal: 23.7s\tremaining: 5m 6s\n",
      "72:\tlearn: 1.9149297\ttest: 9.2021055\tbest: 9.2012161 (71)\ttotal: 24s\tremaining: 5m 5s\n",
      "73:\tlearn: 1.9129130\ttest: 9.2020137\tbest: 9.2012161 (71)\ttotal: 24.3s\tremaining: 5m 4s\n",
      "74:\tlearn: 1.9126102\ttest: 9.2019478\tbest: 9.2012161 (71)\ttotal: 24.6s\tremaining: 5m 3s\n",
      "75:\tlearn: 1.9123056\ttest: 9.2019374\tbest: 9.2012161 (71)\ttotal: 25s\tremaining: 5m 3s\n",
      "76:\tlearn: 1.9119048\ttest: 9.2019487\tbest: 9.2012161 (71)\ttotal: 25.4s\tremaining: 5m 3s\n",
      "77:\tlearn: 1.9115290\ttest: 9.2019058\tbest: 9.2012161 (71)\ttotal: 25.7s\tremaining: 5m 3s\n",
      "78:\tlearn: 1.9113093\ttest: 9.2019455\tbest: 9.2012161 (71)\ttotal: 26s\tremaining: 5m 3s\n",
      "79:\tlearn: 1.9100641\ttest: 9.2019401\tbest: 9.2012161 (71)\ttotal: 26.6s\tremaining: 5m 6s\n",
      "80:\tlearn: 1.9092528\ttest: 9.2018577\tbest: 9.2012161 (71)\ttotal: 26.9s\tremaining: 5m 5s\n",
      "81:\tlearn: 1.9086414\ttest: 9.2009977\tbest: 9.2009977 (81)\ttotal: 27.4s\tremaining: 5m 6s\n",
      "82:\tlearn: 1.9080905\ttest: 9.2010584\tbest: 9.2009977 (81)\ttotal: 27.7s\tremaining: 5m 6s\n",
      "83:\tlearn: 1.9078817\ttest: 9.2009837\tbest: 9.2009837 (83)\ttotal: 28s\tremaining: 5m 5s\n",
      "84:\tlearn: 1.9076017\ttest: 9.2009681\tbest: 9.2009681 (84)\ttotal: 28.3s\tremaining: 5m 5s\n",
      "85:\tlearn: 1.9072400\ttest: 9.2009794\tbest: 9.2009681 (84)\ttotal: 28.7s\tremaining: 5m 4s\n",
      "86:\tlearn: 1.9042095\ttest: 8.9681315\tbest: 8.9681315 (86)\ttotal: 29s\tremaining: 5m 3s\n",
      "87:\tlearn: 1.9040063\ttest: 8.9679599\tbest: 8.9679599 (87)\ttotal: 29.3s\tremaining: 5m 3s\n",
      "88:\tlearn: 1.9033946\ttest: 8.9677645\tbest: 8.9677645 (88)\ttotal: 29.6s\tremaining: 5m 2s\n",
      "89:\tlearn: 1.9023357\ttest: 8.9677520\tbest: 8.9677520 (89)\ttotal: 29.9s\tremaining: 5m 1s\n",
      "90:\tlearn: 1.9018698\ttest: 8.9676577\tbest: 8.9676577 (90)\ttotal: 30.2s\tremaining: 5m 1s\n",
      "91:\tlearn: 1.9014233\ttest: 8.9676521\tbest: 8.9676521 (91)\ttotal: 31.2s\tremaining: 5m 7s\n",
      "92:\tlearn: 1.9011186\ttest: 8.9677901\tbest: 8.9676521 (91)\ttotal: 32.1s\tremaining: 5m 13s\n"
     ]
    },
    {
     "name": "stdout",
     "output_type": "stream",
     "text": [
      "93:\tlearn: 1.9008316\ttest: 8.9677856\tbest: 8.9676521 (91)\ttotal: 32.6s\tremaining: 5m 14s\n",
      "94:\tlearn: 1.8998135\ttest: 8.9678121\tbest: 8.9676521 (91)\ttotal: 33.3s\tremaining: 5m 16s\n",
      "95:\tlearn: 1.8988977\ttest: 8.9677911\tbest: 8.9676521 (91)\ttotal: 33.6s\tremaining: 5m 16s\n",
      "96:\tlearn: 1.8986541\ttest: 8.9675947\tbest: 8.9675947 (96)\ttotal: 33.9s\tremaining: 5m 15s\n",
      "97:\tlearn: 1.8980265\ttest: 8.9676082\tbest: 8.9675947 (96)\ttotal: 34.3s\tremaining: 5m 15s\n",
      "98:\tlearn: 1.8978497\ttest: 8.9675173\tbest: 8.9675173 (98)\ttotal: 34.6s\tremaining: 5m 15s\n",
      "99:\tlearn: 1.8942698\ttest: 8.9593814\tbest: 8.9593814 (99)\ttotal: 35.4s\tremaining: 5m 18s\n",
      "100:\tlearn: 1.8935714\ttest: 8.9591959\tbest: 8.9591959 (100)\ttotal: 35.8s\tremaining: 5m 18s\n",
      "101:\tlearn: 1.8932886\ttest: 8.9593890\tbest: 8.9591959 (100)\ttotal: 36.5s\tremaining: 5m 21s\n",
      "102:\tlearn: 1.8914082\ttest: 8.9595186\tbest: 8.9591959 (100)\ttotal: 36.9s\tremaining: 5m 21s\n",
      "103:\tlearn: 1.8911552\ttest: 8.9589037\tbest: 8.9589037 (103)\ttotal: 37.4s\tremaining: 5m 22s\n",
      "104:\tlearn: 1.8910254\ttest: 8.9589108\tbest: 8.9589037 (103)\ttotal: 37.8s\tremaining: 5m 22s\n",
      "105:\tlearn: 1.8904893\ttest: 8.9588550\tbest: 8.9588550 (105)\ttotal: 38.2s\tremaining: 5m 22s\n",
      "106:\tlearn: 1.8894389\ttest: 8.9588495\tbest: 8.9588495 (106)\ttotal: 38.7s\tremaining: 5m 22s\n",
      "107:\tlearn: 1.8892436\ttest: 8.9588291\tbest: 8.9588291 (107)\ttotal: 39.3s\tremaining: 5m 24s\n",
      "108:\tlearn: 1.8889646\ttest: 8.9588127\tbest: 8.9588127 (108)\ttotal: 39.6s\tremaining: 5m 24s\n",
      "109:\tlearn: 1.8878755\ttest: 8.9588197\tbest: 8.9588127 (108)\ttotal: 40.1s\tremaining: 5m 24s\n",
      "110:\tlearn: 1.8872669\ttest: 8.9585111\tbest: 8.9585111 (110)\ttotal: 40.4s\tremaining: 5m 23s\n",
      "111:\tlearn: 1.8868385\ttest: 8.9586696\tbest: 8.9585111 (110)\ttotal: 40.7s\tremaining: 5m 22s\n",
      "112:\tlearn: 1.8864233\ttest: 8.9586579\tbest: 8.9585111 (110)\ttotal: 41.4s\tremaining: 5m 24s\n",
      "113:\tlearn: 1.8861924\ttest: 8.9585940\tbest: 8.9585111 (110)\ttotal: 42.4s\tremaining: 5m 29s\n",
      "114:\tlearn: 1.8854541\ttest: 8.9587081\tbest: 8.9585111 (110)\ttotal: 42.7s\tremaining: 5m 28s\n",
      "115:\tlearn: 1.8850305\ttest: 8.9583637\tbest: 8.9583637 (115)\ttotal: 43.2s\tremaining: 5m 29s\n",
      "116:\tlearn: 1.8849010\ttest: 8.9583476\tbest: 8.9583476 (116)\ttotal: 43.7s\tremaining: 5m 29s\n",
      "117:\tlearn: 1.8845855\ttest: 8.9576255\tbest: 8.9576255 (117)\ttotal: 44.1s\tremaining: 5m 29s\n",
      "118:\tlearn: 1.8843162\ttest: 8.9578108\tbest: 8.9576255 (117)\ttotal: 44.7s\tremaining: 5m 30s\n",
      "119:\tlearn: 1.8841183\ttest: 8.9573224\tbest: 8.9573224 (119)\ttotal: 45.1s\tremaining: 5m 30s\n",
      "120:\tlearn: 1.8838699\ttest: 8.9572941\tbest: 8.9572941 (120)\ttotal: 45.7s\tremaining: 5m 31s\n",
      "121:\tlearn: 1.8837094\ttest: 8.9572764\tbest: 8.9572764 (121)\ttotal: 46s\tremaining: 5m 31s\n",
      "122:\tlearn: 1.8833882\ttest: 8.9572214\tbest: 8.9572214 (122)\ttotal: 46.4s\tremaining: 5m 31s\n",
      "123:\tlearn: 1.8832684\ttest: 8.9572236\tbest: 8.9572214 (122)\ttotal: 47s\tremaining: 5m 31s\n",
      "124:\tlearn: 1.8824690\ttest: 8.9574352\tbest: 8.9572214 (122)\ttotal: 47.4s\tremaining: 5m 31s\n",
      "125:\tlearn: 1.8814911\ttest: 8.9574159\tbest: 8.9572214 (122)\ttotal: 47.8s\tremaining: 5m 31s\n",
      "126:\tlearn: 1.8812084\ttest: 8.9575886\tbest: 8.9572214 (122)\ttotal: 48.1s\tremaining: 5m 30s\n",
      "127:\tlearn: 1.8811016\ttest: 8.9575755\tbest: 8.9572214 (122)\ttotal: 48.6s\tremaining: 5m 30s\n",
      "128:\tlearn: 1.8808306\ttest: 8.9575058\tbest: 8.9572214 (122)\ttotal: 48.9s\tremaining: 5m 30s\n",
      "129:\tlearn: 1.8805813\ttest: 8.9575100\tbest: 8.9572214 (122)\ttotal: 49.2s\tremaining: 5m 29s\n",
      "130:\tlearn: 1.8805152\ttest: 8.9574953\tbest: 8.9572214 (122)\ttotal: 49.6s\tremaining: 5m 28s\n",
      "131:\tlearn: 1.8803587\ttest: 8.9574726\tbest: 8.9572214 (122)\ttotal: 49.8s\tremaining: 5m 27s\n",
      "132:\tlearn: 1.8802771\ttest: 8.9576284\tbest: 8.9572214 (122)\ttotal: 50.1s\tremaining: 5m 26s\n",
      "133:\tlearn: 1.8801940\ttest: 8.9576556\tbest: 8.9572214 (122)\ttotal: 50.4s\tremaining: 5m 25s\n",
      "134:\tlearn: 1.8800759\ttest: 8.9576467\tbest: 8.9572214 (122)\ttotal: 50.7s\tremaining: 5m 24s\n",
      "135:\tlearn: 1.8799391\ttest: 8.9576976\tbest: 8.9572214 (122)\ttotal: 51.1s\tremaining: 5m 24s\n",
      "136:\tlearn: 1.8793609\ttest: 8.9577197\tbest: 8.9572214 (122)\ttotal: 51.4s\tremaining: 5m 23s\n",
      "137:\tlearn: 1.8790448\ttest: 8.9592154\tbest: 8.9572214 (122)\ttotal: 51.6s\tremaining: 5m 22s\n",
      "138:\tlearn: 1.8785808\ttest: 8.9588304\tbest: 8.9572214 (122)\ttotal: 51.9s\tremaining: 5m 21s\n",
      "139:\tlearn: 1.8783280\ttest: 8.9588188\tbest: 8.9572214 (122)\ttotal: 52.3s\tremaining: 5m 21s\n",
      "140:\tlearn: 1.8782473\ttest: 8.9587675\tbest: 8.9572214 (122)\ttotal: 52.6s\tremaining: 5m 20s\n",
      "141:\tlearn: 1.8778002\ttest: 8.9587710\tbest: 8.9572214 (122)\ttotal: 52.9s\tremaining: 5m 19s\n",
      "142:\tlearn: 1.8774486\ttest: 8.9587648\tbest: 8.9572214 (122)\ttotal: 53.2s\tremaining: 5m 18s\n",
      "143:\tlearn: 1.8760550\ttest: 8.9587268\tbest: 8.9572214 (122)\ttotal: 53.5s\tremaining: 5m 17s\n",
      "144:\tlearn: 1.8758821\ttest: 8.9586184\tbest: 8.9572214 (122)\ttotal: 53.8s\tremaining: 5m 17s\n",
      "145:\tlearn: 1.8737911\ttest: 8.9585668\tbest: 8.9572214 (122)\ttotal: 54s\tremaining: 5m 16s\n",
      "146:\tlearn: 1.8736906\ttest: 8.9585199\tbest: 8.9572214 (122)\ttotal: 54.3s\tremaining: 5m 15s\n",
      "147:\tlearn: 1.8732627\ttest: 8.9584720\tbest: 8.9572214 (122)\ttotal: 54.6s\tremaining: 5m 14s\n",
      "148:\tlearn: 1.8730862\ttest: 8.9584777\tbest: 8.9572214 (122)\ttotal: 54.9s\tremaining: 5m 13s\n",
      "149:\tlearn: 1.8729792\ttest: 8.9584955\tbest: 8.9572214 (122)\ttotal: 55.2s\tremaining: 5m 13s\n",
      "150:\tlearn: 1.8728461\ttest: 8.9582664\tbest: 8.9572214 (122)\ttotal: 55.5s\tremaining: 5m 12s\n",
      "151:\tlearn: 1.8726593\ttest: 8.9582387\tbest: 8.9572214 (122)\ttotal: 55.8s\tremaining: 5m 11s\n",
      "152:\tlearn: 1.8721132\ttest: 8.9582538\tbest: 8.9572214 (122)\ttotal: 56.2s\tremaining: 5m 10s\n",
      "153:\tlearn: 1.8718073\ttest: 8.9582630\tbest: 8.9572214 (122)\ttotal: 56.5s\tremaining: 5m 10s\n",
      "154:\tlearn: 1.8716035\ttest: 8.9582532\tbest: 8.9572214 (122)\ttotal: 56.8s\tremaining: 5m 9s\n",
      "155:\tlearn: 1.8652943\ttest: 8.9806486\tbest: 8.9572214 (122)\ttotal: 57.1s\tremaining: 5m 8s\n",
      "156:\tlearn: 1.8650829\ttest: 8.9806597\tbest: 8.9572214 (122)\ttotal: 57.4s\tremaining: 5m 8s\n",
      "157:\tlearn: 1.8643521\ttest: 8.9806976\tbest: 8.9572214 (122)\ttotal: 57.7s\tremaining: 5m 7s\n",
      "158:\tlearn: 1.8640522\ttest: 8.9806690\tbest: 8.9572214 (122)\ttotal: 58s\tremaining: 5m 6s\n",
      "159:\tlearn: 1.8637584\ttest: 8.9808988\tbest: 8.9572214 (122)\ttotal: 58.4s\tremaining: 5m 6s\n",
      "160:\tlearn: 1.8636074\ttest: 8.9808992\tbest: 8.9572214 (122)\ttotal: 58.7s\tremaining: 5m 5s\n",
      "161:\tlearn: 1.8635229\ttest: 8.9808907\tbest: 8.9572214 (122)\ttotal: 59s\tremaining: 5m 5s\n",
      "162:\tlearn: 1.8632419\ttest: 8.9808783\tbest: 8.9572214 (122)\ttotal: 59.3s\tremaining: 5m 4s\n",
      "163:\tlearn: 1.8630281\ttest: 8.9809863\tbest: 8.9572214 (122)\ttotal: 59.6s\tremaining: 5m 3s\n",
      "164:\tlearn: 1.8628420\ttest: 8.9808831\tbest: 8.9572214 (122)\ttotal: 59.9s\tremaining: 5m 2s\n",
      "165:\tlearn: 1.8624684\ttest: 8.9813405\tbest: 8.9572214 (122)\ttotal: 1m\tremaining: 5m 2s\n",
      "166:\tlearn: 1.8623708\ttest: 8.9815465\tbest: 8.9572214 (122)\ttotal: 1m\tremaining: 5m 1s\n",
      "167:\tlearn: 1.8621560\ttest: 8.9811552\tbest: 8.9572214 (122)\ttotal: 1m\tremaining: 5m 1s\n",
      "168:\tlearn: 1.8620841\ttest: 8.9811579\tbest: 8.9572214 (122)\ttotal: 1m 1s\tremaining: 5m\n",
      "169:\tlearn: 1.8611429\ttest: 8.9811388\tbest: 8.9572214 (122)\ttotal: 1m 1s\tremaining: 4m 59s\n",
      "170:\tlearn: 1.8599691\ttest: 8.9810791\tbest: 8.9572214 (122)\ttotal: 1m 1s\tremaining: 4m 59s\n",
      "171:\tlearn: 1.8508718\ttest: 8.9903760\tbest: 8.9572214 (122)\ttotal: 1m 1s\tremaining: 4m 58s\n",
      "172:\tlearn: 1.8474245\ttest: 8.9905854\tbest: 8.9572214 (122)\ttotal: 1m 2s\tremaining: 4m 57s\n",
      "Stopped by overfitting detector  (50 iterations wait)\n",
      "\n",
      "bestTest = 8.957221421\n",
      "bestIteration = 122\n",
      "\n",
      "Shrink model to first 123 iterations.\n"
     ]
    },
    {
     "data": {
      "text/plain": [
       "63.07235407829285"
      ]
     },
     "execution_count": null,
     "metadata": {},
     "output_type": "execute_result"
    }
   ],
   "source": [
    "ts = time.time()\n",
    "\n",
    "print(\"task type:\",task_type)\n",
    "\n",
    "model = CatBoostRegressor(\n",
    "    task_type = task_type\n",
    "    ,loss_function='RMSE'\n",
    "    ,random_seed=42\n",
    "    ,logging_level='Info'\n",
    "    \n",
    "    ,iterations=1000 # go to 500\n",
    "    ,depth=7\n",
    "    ,l2_leaf_reg=1.0\n",
    "    ,learning_rate=0.36\n",
    "    \n",
    "    ,thread_count=-1\n",
    "    ,early_stopping_rounds=50\n",
    ")\n",
    "\n",
    "train_pool = Pool(X_train\n",
    "                  , Y_train\n",
    "                  #, cat_features=categorical_features_indices\n",
    "                 )\n",
    "\n",
    "model_fit = model.fit(train_pool\n",
    "                  , verbose=True \n",
    "                  , use_best_model=True\n",
    "                  , eval_set=[(X_valid, Y_valid)])\n",
    "\n",
    "time.time() - ts"
   ]
  },
  {
   "cell_type": "code",
   "execution_count": null,
   "metadata": {},
   "outputs": [
    {
     "name": "stdout",
     "output_type": "stream",
     "text": [
      "item_price: 33.16861862581194\n",
      "shop_id: 30.35006874341807\n",
      "item_id: 24.272024440825234\n",
      "date_block_num: 12.209288189944767\n"
     ]
    }
   ],
   "source": [
    "feature_importances = model_fit.get_feature_importance(train_pool)\n",
    "feature_names = X_train.columns\n",
    "for score, name in sorted(zip(feature_importances, feature_names), reverse=True):\n",
    "    print('{}: {}'.format(name, score))"
   ]
  },
  {
   "cell_type": "markdown",
   "metadata": {},
   "source": [
    "## Predict on TEST"
   ]
  },
  {
   "cell_type": "code",
   "execution_count": null,
   "metadata": {},
   "outputs": [],
   "source": [
    "Y_pred_train = model_fit.predict(X_train)\n",
    "Y_pred_valid = model_fit.predict(X_valid)"
   ]
  },
  {
   "cell_type": "code",
   "execution_count": null,
   "metadata": {},
   "outputs": [
    {
     "name": "stdout",
     "output_type": "stream",
     "text": [
      "done\n"
     ]
    }
   ],
   "source": [
    "print(\"done\")"
   ]
  },
  {
   "cell_type": "code",
   "execution_count": null,
   "metadata": {},
   "outputs": [
    {
     "name": "stdout",
     "output_type": "stream",
     "text": [
      "Converted 00_connectors.gcp.ipynb.\n",
      "Converted 01_nlp.fasttext.ipynb.\n",
      "Converted 02_forecasting.dataprep.ipynb.\n",
      "Converted 03_models.catboost.ipynb.\n",
      "Converted 04_nlp.nbsvm.ipynb.\n",
      "Converted index.ipynb.\n"
     ]
    }
   ],
   "source": [
    "#hide\n",
    "from nbdev.export import notebook2script\n",
    "notebook2script()"
   ]
  },
  {
   "cell_type": "code",
   "execution_count": null,
   "metadata": {},
   "outputs": [],
   "source": []
  }
 ],
 "metadata": {
  "kernelspec": {
   "display_name": "Python 3",
   "language": "python",
   "name": "python3"
  }
 },
 "nbformat": 4,
 "nbformat_minor": 2
}
