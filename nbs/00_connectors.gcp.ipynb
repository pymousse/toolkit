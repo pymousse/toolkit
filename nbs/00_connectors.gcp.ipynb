{
 "cells": [
  {
   "cell_type": "code",
   "execution_count": null,
   "metadata": {},
   "outputs": [],
   "source": [
    "# default_exp connectors.gcp"
   ]
  },
  {
   "cell_type": "markdown",
   "metadata": {},
   "source": [
    "# Connectors for GCP\n",
    "\n",
    "> API details."
   ]
  },
  {
   "cell_type": "code",
   "execution_count": null,
   "metadata": {},
   "outputs": [],
   "source": [
    "#hide\n",
    "from nbdev.showdoc import *"
   ]
  },
  {
   "cell_type": "markdown",
   "metadata": {},
   "source": [
    "## GCS"
   ]
  },
  {
   "cell_type": "code",
   "execution_count": null,
   "metadata": {},
   "outputs": [],
   "source": []
  },
  {
   "cell_type": "code",
   "execution_count": null,
   "metadata": {},
   "outputs": [],
   "source": [
    "# exports\n",
    "import json\n",
    "from io import BytesIO\n",
    "import pandas as pd\n",
    "from google.cloud import storage\n",
    "\n",
    "class GCSConnector:\n",
    "    \"\"\"\n",
    "    Object: GCSConnector(Object)\n",
    "    Purpose: Connector to the GCS account\n",
    "    \"\"\"\n",
    "\n",
    "    def __init__(self, credentials, bucketname):\n",
    "        \"\"\"\n",
    "        Initialize Google Cloud Storage Connector to bucket\n",
    "        :param credentials: (str) JSON credentials filename\n",
    "        :param bucketname: (str) bucket name\n",
    "        \"\"\"\n",
    "        self._CREDENTIALS = credentials\n",
    "        self._BUCKETNAME = bucketname\n",
    "        self._gcsclient = storage.Client.from_service_account_json(self._CREDENTIALS)\n",
    "        self._bucket = self._gcsclient.get_bucket(self._BUCKETNAME)\n",
    "\n",
    "    def get_file(self, filename):\n",
    "        \"\"\"\n",
    "        Get file content from GCS\n",
    "        :param filename:\n",
    "        :return: (BytesIO) GCS File as byte\n",
    "        \"\"\"\n",
    "        blob = storage.Blob(filename, self._bucket)\n",
    "        content = blob.download_as_string()\n",
    "        return BytesIO(content)\n",
    "\n",
    "    def send_json(self, json_file, filename):\n",
    "        \"\"\"\n",
    "        :param json_file:\n",
    "        :param filename:\n",
    "        :return:\n",
    "        \"\"\"\n",
    "        self._bucket.blob(filename).upload_from_string(json.dumps(json_file, ensure_ascii=False))\n",
    "\n",
    "    def send_dataframe(self, df, filename, **kwargs):\n",
    "        \"\"\"\n",
    "        :param filename:\n",
    "        :param kwargs:\n",
    "        :return:\n",
    "        \"\"\"\n",
    "        self._bucket.blob(filename).upload_from_string(\n",
    "            df.to_csv(**kwargs), content_type=\"application/octet-stream\")\n",
    "\n",
    "    def open_csv_as_dataframe(self, filename, **kwargs):\n",
    "        \"\"\"\n",
    "\n",
    "        :param filename:\n",
    "        :param kwargs:\n",
    "        :return:\n",
    "        \"\"\"\n",
    "        return pd.read_csv(self.get_file(filename=filename), **kwargs)\n",
    "\n",
    "    def open_json_as_dataframe(self, filename, **kwargs):\n",
    "        \"\"\"\n",
    "\n",
    "        :param filename:\n",
    "        :param kwargs:\n",
    "        :return:\n",
    "        \"\"\"\n",
    "        return pd.read_json(self.get_file(filename=filename), **kwargs)\n",
    "\n",
    "    def open_excel_as_dataframe(self, filename, **kwargs):\n",
    "        \"\"\"\n",
    "\n",
    "        :param filename:\n",
    "        :param kwargs:\n",
    "        :return:\n",
    "        \"\"\"\n",
    "        return pd.read_excel(self.get_file(filename=filename), **kwargs)\n",
    "\n",
    "    def file_exists(self, filename):\n",
    "        \"\"\"\n",
    "        Check if 'filename' file exists within bucket\n",
    "        :param filename:\n",
    "        :return: (Bool)\n",
    "        \"\"\"\n",
    "        return storage.Blob(filename, self._bucket).exists(self._gcsclient)\n",
    "\n",
    "    def list_files(self, prefix, delimiter=None):\n",
    "        return [blob.name for blob in self._bucket.list_blobs(prefix=prefix, delimiter=delimiter)]\n"
   ]
  },
  {
   "cell_type": "code",
   "execution_count": null,
   "metadata": {},
   "outputs": [
    {
     "data": {
      "text/markdown": [
       "<h2 id=\"GCSConnector\" class=\"doc_header\"><code>class</code> <code>GCSConnector</code><a href=\"\" class=\"source_link\" style=\"float:right\">[source]</a></h2>\n",
       "\n",
       "> <code>GCSConnector</code>(**`credentials`**, **`bucketname`**)\n",
       "\n",
       "Object: GCSConnector(Object)\n",
       "Purpose: Connector to the GCS account"
      ],
      "text/plain": [
       "<IPython.core.display.Markdown object>"
      ]
     },
     "metadata": {},
     "output_type": "display_data"
    }
   ],
   "source": [
    "show_doc(GCSConnector)"
   ]
  },
  {
   "cell_type": "markdown",
   "metadata": {},
   "source": [
    "## Big Query"
   ]
  },
  {
   "cell_type": "code",
   "execution_count": null,
   "metadata": {},
   "outputs": [],
   "source": [
    "# exports\n",
    "import pandas_gbq\n",
    "from google.cloud import bigquery\n",
    "from google.oauth2 import service_account\n",
    "\n",
    "class BQConnector:\n",
    "    \"\"\"\n",
    "    Object: BQConnector(Object)   \n",
    "    Purpose: Connector to the Big Query account\n",
    "    \"\"\"\n",
    "    def __init__(self, credentials, project_id):\n",
    "        self.project_id = project_id\n",
    "\n",
    "        # Enable the Google Drive API\n",
    "        self.credentials = service_account.Credentials.from_service_account_file(\n",
    "            credentials\n",
    "        )\n",
    "        self.credentials = self.credentials.with_scopes(\n",
    "            [\n",
    "                'https://www.googleapis.com/auth/drive',\n",
    "                'https://www.googleapis.com/auth/cloud-platform'\n",
    "            ]\n",
    "        )\n",
    "        self._client = bigquery.Client(credentials=self.credentials)\n",
    "\n",
    "        self._credentials_gbq = service_account.Credentials.from_service_account_file(credentials)\n",
    "\n",
    "    def read_df(self, bq_sql_query):\n",
    "        return self._client.query(bq_sql_query).to_dataframe()\n",
    "\n",
    "    def write_df(self, df_to_write, dataset, table, if_exists='replace'):\n",
    "        pandas_gbq.to_gbq(\n",
    "            df_to_write\n",
    "            , '{}.{}'.format(dataset, table)\n",
    "            , project_id=self.project_id\n",
    "            , if_exists=if_exists\n",
    "            , credentials=self._credentials_gbq\n",
    "        )\n",
    "\n",
    "    def run_job(self, sql_query):\n",
    "        self._client.query(sql_query).result()"
   ]
  },
  {
   "cell_type": "code",
   "execution_count": null,
   "metadata": {},
   "outputs": [
    {
     "data": {
      "text/markdown": [
       "<h2 id=\"BQConnector\" class=\"doc_header\"><code>class</code> <code>BQConnector</code><a href=\"\" class=\"source_link\" style=\"float:right\">[source]</a></h2>\n",
       "\n",
       "> <code>BQConnector</code>(**`credentials`**, **`project_id`**)\n",
       "\n",
       "Object: BQConnector(Object)   \n",
       "Purpose: Connector to the Big Query account"
      ],
      "text/plain": [
       "<IPython.core.display.Markdown object>"
      ]
     },
     "metadata": {},
     "output_type": "display_data"
    }
   ],
   "source": [
    "show_doc(BQConnector)"
   ]
  },
  {
   "cell_type": "code",
   "execution_count": null,
   "metadata": {},
   "outputs": [],
   "source": []
  },
  {
   "cell_type": "code",
   "execution_count": null,
   "metadata": {},
   "outputs": [
    {
     "name": "stdout",
     "output_type": "stream",
     "text": [
      "Converted 00_connectors.gcp.ipynb.\n",
      "Converted 01_nlp.fasttext.ipynb.\n",
      "Converted 02_forecasting.dataprep.ipynb.\n",
      "Converted 03_models.catboost.ipynb.\n",
      "Converted index.ipynb.\n"
     ]
    }
   ],
   "source": [
    "#hide\n",
    "from nbdev.export import notebook2script\n",
    "notebook2script()"
   ]
  },
  {
   "cell_type": "code",
   "execution_count": null,
   "metadata": {},
   "outputs": [],
   "source": []
  },
  {
   "cell_type": "code",
   "execution_count": null,
   "metadata": {},
   "outputs": [],
   "source": []
  }
 ],
 "metadata": {
  "kernelspec": {
   "display_name": "Python 3",
   "language": "python",
   "name": "python3"
  }
 },
 "nbformat": 4,
 "nbformat_minor": 2
}
